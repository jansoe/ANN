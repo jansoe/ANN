{
  "nbformat": 4,
  "nbformat_minor": 0,
  "metadata": {
    "colab": {
      "provenance": [],
      "authorship_tag": "ABX9TyM5IkKbpaGaTw+/7rbetDm5",
      "include_colab_link": true
    },
    "kernelspec": {
      "name": "python3",
      "display_name": "Python 3"
    },
    "language_info": {
      "name": "python"
    }
  },
  "cells": [
    {
      "cell_type": "markdown",
      "metadata": {
        "id": "view-in-github",
        "colab_type": "text"
      },
      "source": [
        "<a href=\"https://colab.research.google.com/github/jansoe/ANN/blob/main/PredictionAnalyse.ipynb\" target=\"_parent\"><img src=\"https://colab.research.google.com/assets/colab-badge.svg\" alt=\"Open In Colab\"/></a>"
      ]
    },
    {
      "cell_type": "code",
      "execution_count": 1,
      "metadata": {
        "id": "fyjipkFy4ipU"
      },
      "outputs": [],
      "source": [
        "from google.colab import auth\n",
        "auth.authenticate_user()"
      ]
    },
    {
      "cell_type": "code",
      "source": [
        "import gspread\n",
        "from google.auth import default\n",
        "creds, _ = default()\n",
        "\n",
        "gc = gspread.authorize(creds)"
      ],
      "metadata": {
        "id": "2vTqorwI4nBs"
      },
      "execution_count": 2,
      "outputs": []
    },
    {
      "cell_type": "code",
      "source": [
        "sheet = gc.open('Symptom2Disease_jan').sheet1\n",
        "\n",
        "index = sheet.range('A2:A1201')\n",
        "label = sheet.range('B2:B1201')\n",
        "predictions = sheet.range('E2:E1201')"
      ],
      "metadata": {
        "id": "SJZpQ2gb4o80"
      },
      "execution_count": 38,
      "outputs": []
    },
    {
      "cell_type": "code",
      "source": [
        "diseases = set(cell.value.lower() for cell in label)\n",
        "diseases"
      ],
      "metadata": {
        "id": "QUk4TIYa8fgl",
        "colab": {
          "base_uri": "https://localhost:8080/"
        },
        "outputId": "32482c12-b641-46bb-e4be-832b592f36a7"
      },
      "execution_count": 39,
      "outputs": [
        {
          "output_type": "execute_result",
          "data": {
            "text/plain": [
              "{'acne',\n",
              " 'allergy',\n",
              " 'arthritis',\n",
              " 'bronchial asthma',\n",
              " 'cervical spondylosis',\n",
              " 'chicken pox',\n",
              " 'common cold',\n",
              " 'dengue',\n",
              " 'diabetes',\n",
              " 'dimorphic hemorrhoids',\n",
              " 'drug reaction',\n",
              " 'fungal infection',\n",
              " 'gastroesophageal reflux disease',\n",
              " 'hypertension',\n",
              " 'impetigo',\n",
              " 'jaundice',\n",
              " 'malaria',\n",
              " 'migraine',\n",
              " 'peptic ulcer disease',\n",
              " 'pneumonia',\n",
              " 'psoriasis',\n",
              " 'typhoid',\n",
              " 'urinary tract infection',\n",
              " 'varicose veins'}"
            ]
          },
          "metadata": {},
          "execution_count": 39
        }
      ]
    },
    {
      "cell_type": "code",
      "source": [
        "prediction_labels = {}\n",
        "for ix, cell in enumerate(predictions):\n",
        "    if cell.value:\n",
        "        prediction_labels[ix] = []\n",
        "        cell_values = cell.value.split(',')\n",
        "\n",
        "        for cell_value in cell_values:\n",
        "            cell_value = cell_value.strip(' \"')\n",
        "            cell_value = cell_value.lower()\n",
        "\n",
        "            if (cell_value not in diseases) and cell_value != \"other\":\n",
        "                print(f\"!! row {ix+2} value >> {cell_value} << does not match !!\")\n",
        "            else:\n",
        "                prediction_labels[ix].append(cell_value)"
      ],
      "metadata": {
        "id": "0fqPgtsB40UF"
      },
      "execution_count": 46,
      "outputs": []
    },
    {
      "cell_type": "code",
      "source": [
        "prediction_labels"
      ],
      "metadata": {
        "colab": {
          "base_uri": "https://localhost:8080/"
        },
        "id": "wnrdBPF841p-",
        "outputId": "5e915fbd-c98e-4289-b2ed-2cc7176cbc20"
      },
      "execution_count": 47,
      "outputs": [
        {
          "output_type": "execute_result",
          "data": {
            "text/plain": [
              "{45: ['psoriasis', 'arthritis'],\n",
              " 46: ['psoriasis'],\n",
              " 47: ['arthritis'],\n",
              " 48: ['psoriasis', 'arthritis'],\n",
              " 49: ['psoriasis'],\n",
              " 95: ['varicose veins'],\n",
              " 96: ['varicose veins'],\n",
              " 97: ['varicose veins'],\n",
              " 98: ['dimorphic hemorrhoids'],\n",
              " 99: ['varicose veins'],\n",
              " 145: ['typhoid'],\n",
              " 146: ['typhoid'],\n",
              " 147: ['typhoid'],\n",
              " 148: ['peptic ulcer disease'],\n",
              " 149: ['typhoid'],\n",
              " 195: ['psoriasis'],\n",
              " 196: ['dengue'],\n",
              " 197: ['dengue'],\n",
              " 198: ['dengue'],\n",
              " 199: ['chicken pox'],\n",
              " 245: ['dengue'],\n",
              " 246: ['impetigo'],\n",
              " 247: ['impetigo'],\n",
              " 248: ['dengue'],\n",
              " 249: ['impetigo'],\n",
              " 295: ['arthritis'],\n",
              " 296: ['dengue'],\n",
              " 297: ['dengue'],\n",
              " 298: ['malaria'],\n",
              " 299: ['psoriasis'],\n",
              " 345: ['psoriasis'],\n",
              " 346: ['psoriasis'],\n",
              " 347: ['psoriasis'],\n",
              " 348: ['psoriasis'],\n",
              " 349: ['impetigo'],\n",
              " 395: ['allergy'],\n",
              " 396: ['common cold'],\n",
              " 397: ['pneumonia'],\n",
              " 398: ['allergy'],\n",
              " 399: ['bronchial asthma'],\n",
              " 445: ['bronchial asthma'],\n",
              " 446: ['bronchial asthma'],\n",
              " 447: ['bronchial asthma'],\n",
              " 448: ['pneumonia'],\n",
              " 449: ['pneumonia'],\n",
              " 495: ['dimorphic hemorrhoids'],\n",
              " 496: ['dimorphic hemorrhoids'],\n",
              " 497: ['dimorphic hemorrhoids'],\n",
              " 498: ['dimorphic hemorrhoids'],\n",
              " 499: ['dimorphic hemorrhoids'],\n",
              " 545: ['arthritis'],\n",
              " 546: ['cervical spondylosis'],\n",
              " 547: ['cervical spondylosis'],\n",
              " 548: ['cervical spondylosis'],\n",
              " 549: ['cervical spondylosis'],\n",
              " 595: ['acne'],\n",
              " 596: ['impetigo'],\n",
              " 597: ['impetigo'],\n",
              " 598: ['acne'],\n",
              " 599: ['impetigo'],\n",
              " 645: ['pneumonia'],\n",
              " 646: ['pneumonia'],\n",
              " 647: ['pneumonia'],\n",
              " 648: ['pneumonia'],\n",
              " 649: ['pneumonia'],\n",
              " 695: ['migraine'],\n",
              " 696: ['migraine'],\n",
              " 697: ['migraine'],\n",
              " 698: ['migraine'],\n",
              " 699: ['migraine'],\n",
              " 745: ['diabetes'],\n",
              " 746: ['diabetes'],\n",
              " 747: ['diabetes'],\n",
              " 748: ['diabetes'],\n",
              " 749: ['diabetes'],\n",
              " 795: ['cervical spondylosis'],\n",
              " 796: ['cervical spondylosis'],\n",
              " 797: ['cervical spondylosis'],\n",
              " 798: ['cervical spondylosis'],\n",
              " 799: ['cervical spondylosis'],\n",
              " 845: ['jaundice'],\n",
              " 846: ['jaundice'],\n",
              " 847: ['jaundice'],\n",
              " 848: ['other'],\n",
              " 849: ['jaundice'],\n",
              " 895: ['malaria'],\n",
              " 896: ['malaria'],\n",
              " 897: ['malaria'],\n",
              " 898: ['malaria'],\n",
              " 899: ['malaria'],\n",
              " 945: ['urinary tract infection'],\n",
              " 946: ['urinary tract infection'],\n",
              " 947: ['malaria'],\n",
              " 948: ['urinary tract infection'],\n",
              " 949: ['urinary tract infection'],\n",
              " 995: ['fungal infection'],\n",
              " 996: ['common cold'],\n",
              " 997: ['psoriasis'],\n",
              " 998: ['bronchial asthma'],\n",
              " 999: ['allergy'],\n",
              " 1045: ['peptic ulcer disease'],\n",
              " 1046: ['gastroesophageal reflux disease'],\n",
              " 1047: ['gastroesophageal reflux disease'],\n",
              " 1048: ['gastroesophageal reflux disease'],\n",
              " 1049: ['gastroesophageal reflux disease'],\n",
              " 1095: ['malaria'],\n",
              " 1096: ['malaria'],\n",
              " 1097: ['psoriasis'],\n",
              " 1098: ['bronchial asthma'],\n",
              " 1099: ['psoriasis'],\n",
              " 1145: ['peptic ulcer disease'],\n",
              " 1146: ['other'],\n",
              " 1147: ['peptic ulcer disease'],\n",
              " 1148: ['gastroesophageal reflux disease'],\n",
              " 1149: ['peptic ulcer disease'],\n",
              " 1195: ['malaria'],\n",
              " 1196: ['dimorphic hemorrhoids'],\n",
              " 1197: ['diabetes'],\n",
              " 1198: ['bronchial asthma'],\n",
              " 1199: ['allergy']}"
            ]
          },
          "metadata": {},
          "execution_count": 47
        }
      ]
    },
    {
      "cell_type": "code",
      "source": [
        "rows2select = [45,46,47,48,49]\n",
        "\n",
        "validation_rows = []\n",
        "for i in range(len(diseases)):\n",
        "    for ix in rows2select:\n",
        "        validation_rows.append(ix+50*i)\n",
        "\n",
        "print(validation_rows)"
      ],
      "metadata": {
        "id": "qN6r4ARW5lGh",
        "colab": {
          "base_uri": "https://localhost:8080/"
        },
        "outputId": "94a36a94-db21-4ccb-842d-5e641413f72f"
      },
      "execution_count": 43,
      "outputs": [
        {
          "output_type": "stream",
          "name": "stdout",
          "text": [
            "[45, 46, 47, 48, 49, 95, 96, 97, 98, 99, 145, 146, 147, 148, 149, 195, 196, 197, 198, 199, 245, 246, 247, 248, 249, 295, 296, 297, 298, 299, 345, 346, 347, 348, 349, 395, 396, 397, 398, 399, 445, 446, 447, 448, 449, 495, 496, 497, 498, 499, 545, 546, 547, 548, 549, 595, 596, 597, 598, 599, 645, 646, 647, 648, 649, 695, 696, 697, 698, 699, 745, 746, 747, 748, 749, 795, 796, 797, 798, 799, 845, 846, 847, 848, 849, 895, 896, 897, 898, 899, 945, 946, 947, 948, 949, 995, 996, 997, 998, 999, 1045, 1046, 1047, 1048, 1049, 1095, 1096, 1097, 1098, 1099, 1145, 1146, 1147, 1148, 1149, 1195, 1196, 1197, 1198, 1199]\n"
          ]
        }
      ]
    },
    {
      "cell_type": "code",
      "source": [
        "for row in validation_rows:\n",
        "    print(f'Ground Truth {label[row].value.lower()} vs Predictions {prediction_labels[row]}')"
      ],
      "metadata": {
        "colab": {
          "base_uri": "https://localhost:8080/"
        },
        "id": "fmAkPB6ZjQez",
        "outputId": "56bce30f-d977-493d-896c-d9a88d79d282"
      },
      "execution_count": 52,
      "outputs": [
        {
          "output_type": "stream",
          "name": "stdout",
          "text": [
            "Ground Truth psoriasis vs Predictions ['psoriasis', 'arthritis']\n",
            "Ground Truth psoriasis vs Predictions ['psoriasis']\n",
            "Ground Truth psoriasis vs Predictions ['arthritis']\n",
            "Ground Truth psoriasis vs Predictions ['psoriasis', 'arthritis']\n",
            "Ground Truth psoriasis vs Predictions ['psoriasis']\n",
            "Ground Truth varicose veins vs Predictions ['varicose veins']\n",
            "Ground Truth varicose veins vs Predictions ['varicose veins']\n",
            "Ground Truth varicose veins vs Predictions ['varicose veins']\n",
            "Ground Truth varicose veins vs Predictions ['dimorphic hemorrhoids']\n",
            "Ground Truth varicose veins vs Predictions ['varicose veins']\n",
            "Ground Truth typhoid vs Predictions ['typhoid']\n",
            "Ground Truth typhoid vs Predictions ['typhoid']\n",
            "Ground Truth typhoid vs Predictions ['typhoid']\n",
            "Ground Truth typhoid vs Predictions ['peptic ulcer disease']\n",
            "Ground Truth typhoid vs Predictions ['typhoid']\n",
            "Ground Truth chicken pox vs Predictions ['psoriasis']\n",
            "Ground Truth chicken pox vs Predictions ['dengue']\n",
            "Ground Truth chicken pox vs Predictions ['dengue']\n",
            "Ground Truth chicken pox vs Predictions ['dengue']\n",
            "Ground Truth chicken pox vs Predictions ['chicken pox']\n",
            "Ground Truth impetigo vs Predictions ['dengue']\n",
            "Ground Truth impetigo vs Predictions ['impetigo']\n",
            "Ground Truth impetigo vs Predictions ['impetigo']\n",
            "Ground Truth impetigo vs Predictions ['dengue']\n",
            "Ground Truth impetigo vs Predictions ['impetigo']\n",
            "Ground Truth dengue vs Predictions ['arthritis']\n",
            "Ground Truth dengue vs Predictions ['dengue']\n",
            "Ground Truth dengue vs Predictions ['dengue']\n",
            "Ground Truth dengue vs Predictions ['malaria']\n",
            "Ground Truth dengue vs Predictions ['psoriasis']\n",
            "Ground Truth fungal infection vs Predictions ['psoriasis']\n",
            "Ground Truth fungal infection vs Predictions ['psoriasis']\n",
            "Ground Truth fungal infection vs Predictions ['psoriasis']\n",
            "Ground Truth fungal infection vs Predictions ['psoriasis']\n",
            "Ground Truth fungal infection vs Predictions ['impetigo']\n",
            "Ground Truth common cold vs Predictions ['allergy']\n",
            "Ground Truth common cold vs Predictions ['common cold']\n",
            "Ground Truth common cold vs Predictions ['pneumonia']\n",
            "Ground Truth common cold vs Predictions ['allergy']\n",
            "Ground Truth common cold vs Predictions ['bronchial asthma']\n",
            "Ground Truth pneumonia vs Predictions ['bronchial asthma']\n",
            "Ground Truth pneumonia vs Predictions ['bronchial asthma']\n",
            "Ground Truth pneumonia vs Predictions ['bronchial asthma']\n",
            "Ground Truth pneumonia vs Predictions ['pneumonia']\n",
            "Ground Truth pneumonia vs Predictions ['pneumonia']\n",
            "Ground Truth dimorphic hemorrhoids vs Predictions ['dimorphic hemorrhoids']\n",
            "Ground Truth dimorphic hemorrhoids vs Predictions ['dimorphic hemorrhoids']\n",
            "Ground Truth dimorphic hemorrhoids vs Predictions ['dimorphic hemorrhoids']\n",
            "Ground Truth dimorphic hemorrhoids vs Predictions ['dimorphic hemorrhoids']\n",
            "Ground Truth dimorphic hemorrhoids vs Predictions ['dimorphic hemorrhoids']\n",
            "Ground Truth arthritis vs Predictions ['arthritis']\n",
            "Ground Truth arthritis vs Predictions ['cervical spondylosis']\n",
            "Ground Truth arthritis vs Predictions ['cervical spondylosis']\n",
            "Ground Truth arthritis vs Predictions ['cervical spondylosis']\n",
            "Ground Truth arthritis vs Predictions ['cervical spondylosis']\n",
            "Ground Truth acne vs Predictions ['acne']\n",
            "Ground Truth acne vs Predictions ['impetigo']\n",
            "Ground Truth acne vs Predictions ['impetigo']\n",
            "Ground Truth acne vs Predictions ['acne']\n",
            "Ground Truth acne vs Predictions ['impetigo']\n",
            "Ground Truth bronchial asthma vs Predictions ['pneumonia']\n",
            "Ground Truth bronchial asthma vs Predictions ['pneumonia']\n",
            "Ground Truth bronchial asthma vs Predictions ['pneumonia']\n",
            "Ground Truth bronchial asthma vs Predictions ['pneumonia']\n",
            "Ground Truth bronchial asthma vs Predictions ['pneumonia']\n",
            "Ground Truth hypertension vs Predictions ['migraine']\n",
            "Ground Truth hypertension vs Predictions ['migraine']\n",
            "Ground Truth hypertension vs Predictions ['migraine']\n",
            "Ground Truth hypertension vs Predictions ['migraine']\n",
            "Ground Truth hypertension vs Predictions ['migraine']\n",
            "Ground Truth migraine vs Predictions ['diabetes']\n",
            "Ground Truth migraine vs Predictions ['diabetes']\n",
            "Ground Truth migraine vs Predictions ['diabetes']\n",
            "Ground Truth migraine vs Predictions ['diabetes']\n",
            "Ground Truth migraine vs Predictions ['diabetes']\n",
            "Ground Truth cervical spondylosis vs Predictions ['cervical spondylosis']\n",
            "Ground Truth cervical spondylosis vs Predictions ['cervical spondylosis']\n",
            "Ground Truth cervical spondylosis vs Predictions ['cervical spondylosis']\n",
            "Ground Truth cervical spondylosis vs Predictions ['cervical spondylosis']\n",
            "Ground Truth cervical spondylosis vs Predictions ['cervical spondylosis']\n",
            "Ground Truth jaundice vs Predictions ['jaundice']\n",
            "Ground Truth jaundice vs Predictions ['jaundice']\n",
            "Ground Truth jaundice vs Predictions ['jaundice']\n",
            "Ground Truth jaundice vs Predictions ['other']\n",
            "Ground Truth jaundice vs Predictions ['jaundice']\n",
            "Ground Truth malaria vs Predictions ['malaria']\n",
            "Ground Truth malaria vs Predictions ['malaria']\n",
            "Ground Truth malaria vs Predictions ['malaria']\n",
            "Ground Truth malaria vs Predictions ['malaria']\n",
            "Ground Truth malaria vs Predictions ['malaria']\n",
            "Ground Truth urinary tract infection vs Predictions ['urinary tract infection']\n",
            "Ground Truth urinary tract infection vs Predictions ['urinary tract infection']\n",
            "Ground Truth urinary tract infection vs Predictions ['malaria']\n",
            "Ground Truth urinary tract infection vs Predictions ['urinary tract infection']\n",
            "Ground Truth urinary tract infection vs Predictions ['urinary tract infection']\n",
            "Ground Truth allergy vs Predictions ['fungal infection']\n",
            "Ground Truth allergy vs Predictions ['common cold']\n",
            "Ground Truth allergy vs Predictions ['psoriasis']\n",
            "Ground Truth allergy vs Predictions ['bronchial asthma']\n",
            "Ground Truth allergy vs Predictions ['allergy']\n",
            "Ground Truth gastroesophageal reflux disease vs Predictions ['peptic ulcer disease']\n",
            "Ground Truth gastroesophageal reflux disease vs Predictions ['gastroesophageal reflux disease']\n",
            "Ground Truth gastroesophageal reflux disease vs Predictions ['gastroesophageal reflux disease']\n",
            "Ground Truth gastroesophageal reflux disease vs Predictions ['gastroesophageal reflux disease']\n",
            "Ground Truth gastroesophageal reflux disease vs Predictions ['gastroesophageal reflux disease']\n",
            "Ground Truth drug reaction vs Predictions ['malaria']\n",
            "Ground Truth drug reaction vs Predictions ['malaria']\n",
            "Ground Truth drug reaction vs Predictions ['psoriasis']\n",
            "Ground Truth drug reaction vs Predictions ['bronchial asthma']\n",
            "Ground Truth drug reaction vs Predictions ['psoriasis']\n",
            "Ground Truth peptic ulcer disease vs Predictions ['peptic ulcer disease']\n",
            "Ground Truth peptic ulcer disease vs Predictions ['other']\n",
            "Ground Truth peptic ulcer disease vs Predictions ['peptic ulcer disease']\n",
            "Ground Truth peptic ulcer disease vs Predictions ['gastroesophageal reflux disease']\n",
            "Ground Truth peptic ulcer disease vs Predictions ['peptic ulcer disease']\n",
            "Ground Truth diabetes vs Predictions ['malaria']\n",
            "Ground Truth diabetes vs Predictions ['dimorphic hemorrhoids']\n",
            "Ground Truth diabetes vs Predictions ['diabetes']\n",
            "Ground Truth diabetes vs Predictions ['bronchial asthma']\n",
            "Ground Truth diabetes vs Predictions ['allergy']\n"
          ]
        }
      ]
    },
    {
      "cell_type": "code",
      "source": [
        "from collections import Counter\n",
        "\n",
        "TP = Counter()\n",
        "FP = Counter()\n",
        "FN = Counter()\n",
        "\n",
        "for row in validation_rows:\n",
        "    gt = label[row].value.lower()\n",
        "\n",
        "    # Wenn das Label in den Vorhersagen vorkommt, ist es ein TP\n",
        "    if gt in prediction_labels[row]:\n",
        "        TP[gt] += 1\n",
        "\n",
        "    # Wenn das Label nicht in den Vorhersagen vorkommt, ist es ein FN\n",
        "    if gt not in prediction_labels[row]:\n",
        "        FN[gt] += 1\n",
        "\n",
        "    # Alle Vorhersagen die nicht mit dem Label übereinstimmen sind FP\n",
        "    for pred in prediction_labels[row]:\n",
        "        if pred != gt:\n",
        "            FP[pred] += 1\n"
      ],
      "metadata": {
        "id": "wGjfwRp0jun0"
      },
      "execution_count": 62,
      "outputs": []
    },
    {
      "cell_type": "code",
      "source": [
        "TP"
      ],
      "metadata": {
        "colab": {
          "base_uri": "https://localhost:8080/"
        },
        "id": "gCy2TWRaqKlH",
        "outputId": "454697d0-2de4-4243-c4a1-0eb812527d76"
      },
      "execution_count": 70,
      "outputs": [
        {
          "output_type": "execute_result",
          "data": {
            "text/plain": [
              "Counter({'psoriasis': 4,\n",
              "         'varicose veins': 4,\n",
              "         'typhoid': 4,\n",
              "         'chicken pox': 1,\n",
              "         'impetigo': 3,\n",
              "         'dengue': 2,\n",
              "         'common cold': 1,\n",
              "         'pneumonia': 2,\n",
              "         'dimorphic hemorrhoids': 5,\n",
              "         'arthritis': 1,\n",
              "         'acne': 2,\n",
              "         'cervical spondylosis': 5,\n",
              "         'jaundice': 4,\n",
              "         'malaria': 5,\n",
              "         'urinary tract infection': 4,\n",
              "         'allergy': 1,\n",
              "         'gastroesophageal reflux disease': 4,\n",
              "         'peptic ulcer disease': 3,\n",
              "         'diabetes': 1})"
            ]
          },
          "metadata": {},
          "execution_count": 70
        }
      ]
    },
    {
      "cell_type": "code",
      "source": [
        "sum(TP.values())"
      ],
      "metadata": {
        "colab": {
          "base_uri": "https://localhost:8080/"
        },
        "id": "vlxvnz5pmijM",
        "outputId": "a23e71d0-bf57-4ecc-aeb9-b2f1834f726c"
      },
      "execution_count": 71,
      "outputs": [
        {
          "output_type": "execute_result",
          "data": {
            "text/plain": [
              "56"
            ]
          },
          "metadata": {},
          "execution_count": 71
        }
      ]
    }
  ]
}