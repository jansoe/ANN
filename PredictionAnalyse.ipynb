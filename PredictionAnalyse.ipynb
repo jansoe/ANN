{
  "nbformat": 4,
  "nbformat_minor": 0,
  "metadata": {
    "colab": {
      "provenance": [],
      "authorship_tag": "ABX9TyNQt81vQJK/eZlp3yqPFjYI",
      "include_colab_link": true
    },
    "kernelspec": {
      "name": "python3",
      "display_name": "Python 3"
    },
    "language_info": {
      "name": "python"
    }
  },
  "cells": [
    {
      "cell_type": "markdown",
      "metadata": {
        "id": "view-in-github",
        "colab_type": "text"
      },
      "source": [
        "<a href=\"https://colab.research.google.com/github/jansoe/ANN/blob/main/PredictionAnalyse.ipynb\" target=\"_parent\"><img src=\"https://colab.research.google.com/assets/colab-badge.svg\" alt=\"Open In Colab\"/></a>"
      ]
    },
    {
      "cell_type": "code",
      "execution_count": null,
      "metadata": {
        "id": "fyjipkFy4ipU"
      },
      "outputs": [],
      "source": [
        "from google.colab import auth\n",
        "auth.authenticate_user()"
      ]
    },
    {
      "cell_type": "code",
      "source": [
        "import gspread\n",
        "from google.auth import default\n",
        "creds, _ = default()\n",
        "\n",
        "gc = gspread.authorize(creds)"
      ],
      "metadata": {
        "id": "2vTqorwI4nBs"
      },
      "execution_count": null,
      "outputs": []
    },
    {
      "cell_type": "code",
      "source": [
        "sheet = gc.open('Symptom2Disease_jan').sheet1\n",
        "\n",
        "index = sheet.range('A2:A1201')\n",
        "label = sheet.range('B2:B1201')\n",
        "predictions = sheet.range('E2:E1201')"
      ],
      "metadata": {
        "id": "SJZpQ2gb4o80"
      },
      "execution_count": null,
      "outputs": []
    },
    {
      "cell_type": "code",
      "source": [
        "diseases = set(cell.value.lower() for cell in label)"
      ],
      "metadata": {
        "id": "QUk4TIYa8fgl"
      },
      "execution_count": null,
      "outputs": []
    },
    {
      "cell_type": "code",
      "source": [
        "prediction_labels = {}\n",
        "for ix, cell in enumerate(predictions):\n",
        "    if cell.value:\n",
        "        prediction_labels[ix] = []\n",
        "        cell_values = cell.value.split(',')\n",
        "        for cell_value in cell_values:\n",
        "            cell_value = cell_value.strip(' \"')\n",
        "            cell_value = cell_value.lower()\n",
        "\n",
        "            if cell_value not in diseases:\n",
        "                print(f\"row {ix} value {cell_value} does not match\")"
      ],
      "metadata": {
        "id": "0fqPgtsB40UF"
      },
      "execution_count": null,
      "outputs": []
    },
    {
      "cell_type": "code",
      "source": [
        "prediction_labels"
      ],
      "metadata": {
        "colab": {
          "base_uri": "https://localhost:8080/"
        },
        "id": "wnrdBPF841p-",
        "outputId": "3c61cebd-bbb2-48e2-8058-0d0d6cfced13"
      },
      "execution_count": null,
      "outputs": [
        {
          "output_type": "execute_result",
          "data": {
            "text/plain": [
              "{45: 'Psoriasis, Arthritis',\n",
              " 46: 'Psoriasis',\n",
              " 47: 'Arthritis',\n",
              " 48: 'Psoriasis, Arthritis',\n",
              " 49: 'Psoriasis',\n",
              " 95: 'Varicose Veins',\n",
              " 96: 'Varicose Veins',\n",
              " 97: 'Varicose Veins',\n",
              " 98: 'Dimorphic hemorrhoids',\n",
              " 99: 'Varicose Veins',\n",
              " 145: 'Typhoid',\n",
              " 146: 'Typhoid',\n",
              " 147: 'Typhoid',\n",
              " 148: 'Peptic ulcer disease',\n",
              " 149: 'Typhoid',\n",
              " 195: 'Psoriasis',\n",
              " 196: 'Dengue',\n",
              " 197: 'Dengue',\n",
              " 198: 'Dengue',\n",
              " 199: 'Chicken pox',\n",
              " 245: 'Dengue',\n",
              " 246: 'Impetigo',\n",
              " 247: 'Impetigo',\n",
              " 248: 'Dengue',\n",
              " 249: 'Impetigo',\n",
              " 295: 'Arthritis',\n",
              " 296: 'Dengue',\n",
              " 297: 'Dengue',\n",
              " 298: 'Malaria',\n",
              " 299: 'Psoriasis',\n",
              " 345: 'Psoriasis',\n",
              " 346: 'Psoriasis',\n",
              " 347: 'Psoriasis',\n",
              " 348: 'Psoriasis',\n",
              " 349: 'Impetigo',\n",
              " 395: 'Allergy',\n",
              " 396: 'Common Cold',\n",
              " 397: 'Pneumonia',\n",
              " 398: 'Allergy',\n",
              " 399: 'Bronchial Asthma',\n",
              " 445: 'Bronchial Asthma',\n",
              " 446: 'Bronchial Asthma',\n",
              " 447: 'Bronchial Asthma',\n",
              " 448: 'Pneumonia',\n",
              " 449: 'Pneumonia',\n",
              " 495: 'Dimorphic Hemorrhoids',\n",
              " 496: '\"Dimorphic Hemorrhoids\"',\n",
              " 497: '\"Dimorphic Hemorrhoids\"',\n",
              " 498: '\"Dimorphic Hemorrhoids\"',\n",
              " 499: '\"Dimorphic Hemorrhoids\".',\n",
              " 545: '\"Arthritis\"',\n",
              " 546: '\"Cervical spondylosis\"',\n",
              " 547: '\"Cervical spondylosis\"',\n",
              " 548: '\"Cervical spondylosis\"',\n",
              " 549: '\"Cervical spondylosis\"',\n",
              " 595: '\"Acne\"',\n",
              " 596: '\"Impetigo\"',\n",
              " 597: '\"Impetigo\"',\n",
              " 598: '\"Acne\"',\n",
              " 599: '\"Impetigo\"',\n",
              " 645: '\"Pneumonia\"',\n",
              " 646: '\"Pneumonia\"',\n",
              " 647: '\"Pneumonia\"',\n",
              " 648: '\"Pneumonia\"',\n",
              " 649: '\"Pneumonia\"',\n",
              " 695: 'Migraine',\n",
              " 696: '\"Migraine\"',\n",
              " 697: 'Migraine',\n",
              " 698: 'Migraine',\n",
              " 699: 'Migraine',\n",
              " 745: '\"diabetes\"',\n",
              " 746: '\"diabetes\"',\n",
              " 747: 'diabetes',\n",
              " 748: '\"Diabetes\"',\n",
              " 749: '\"Diabetes\"',\n",
              " 795: '\"Cervical spondylosis\"',\n",
              " 796: '\"Cervical spondylosis\"',\n",
              " 797: '\"Cervical spondylosis\"',\n",
              " 798: '\"Cervical spondylosis\"',\n",
              " 799: '\"Cervical spondylosis\"',\n",
              " 845: 'Jaundice',\n",
              " 846: '\"Jaundice\"',\n",
              " 847: '\"Jaundice\"',\n",
              " 848: '\"Hepatitis\"',\n",
              " 849: '\"Jaundice\"',\n",
              " 895: 'Malaria',\n",
              " 896: '\"Malaria\"',\n",
              " 897: '\"Malaria\"',\n",
              " 898: '\"Malaria\"',\n",
              " 899: '\"Malaria\"',\n",
              " 945: '\"urinary tract infection\"',\n",
              " 946: '\"urinary tract infection\"',\n",
              " 947: 'Malaria',\n",
              " 948: '\"urinary tract infection\"',\n",
              " 949: '\"urinary tract infection\"',\n",
              " 995: 'Fungal infection',\n",
              " 996: 'common cold',\n",
              " 997: 'Psoriasis',\n",
              " 998: '\"Bronchial Asthma\"',\n",
              " 999: '\"Allergy\"',\n",
              " 1045: '\"Peptic ulcer disease.\"',\n",
              " 1046: '\"gastroesophageal reflux disease\"',\n",
              " 1047: '\"gastroesophageal reflux disease\"',\n",
              " 1048: '\"gastroesophageal reflux disease\"',\n",
              " 1049: '\"gastroesophageal reflux disease\"',\n",
              " 1095: '\"Malaria\"',\n",
              " 1096: 'Malaria',\n",
              " 1097: '\"Psoriasis\"',\n",
              " 1098: '\"Bronchial Asthma\"',\n",
              " 1099: '\"Psoriasis\"',\n",
              " 1145: '\"Peptic ulcer disease\"',\n",
              " 1146: '\"gastric ulcer\"',\n",
              " 1147: '\"Peptic ulcer disease\"',\n",
              " 1148: '\"gastroesophageal reflux disease\"',\n",
              " 1149: 'peptic ulcer disease',\n",
              " 1195: '\"Malaria\"',\n",
              " 1196: '\"Dimorphic Hemorrhoids\"',\n",
              " 1197: '\"diabetes\"',\n",
              " 1198: 'Bronchial Asthma',\n",
              " 1199: 'Allergies'}"
            ]
          },
          "metadata": {},
          "execution_count": 15
        }
      ]
    },
    {
      "cell_type": "code",
      "source": [],
      "metadata": {
        "id": "qN6r4ARW5lGh"
      },
      "execution_count": null,
      "outputs": []
    }
  ]
}